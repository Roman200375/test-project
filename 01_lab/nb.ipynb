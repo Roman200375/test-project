{
 "cells": [
  {
   "cell_type": "markdown",
   "metadata": {},
   "source": [
    "Виконуємо першу програму ітеративно у комірках Python Jupyter Notebook\n",
    "Ця комірка належить до Markdown, а наступна буде з кодом Python\n",
    "\n",
    "наступна клітинка ЦЕ ІМПОРТИ БІБЛІОТЕК"
   ]
  },
  {
   "cell_type": "code",
   "execution_count": null,
   "metadata": {},
   "outputs": [],
   "source": [
    "from datetime import datetime\n",
    "from time import time, sleep"
   ]
  },
  {
   "cell_type": "markdown",
   "metadata": {},
   "source": [
    "Наступна клітинка задає змінні"
   ]
  },
  {
   "cell_type": "code",
   "execution_count": null,
   "metadata": {},
   "outputs": [],
   "source": [
    "name = \"Roman\"\n",
    "Location = \"Lviv\"\n",
    "sleep_time = 5"
   ]
  },
  {
   "cell_type": "markdown",
   "metadata": {},
   "source": [
    "наступна клітинка буде виводити текст"
   ]
  },
  {
   "cell_type": "code",
   "execution_count": null,
   "metadata": {},
   "outputs": [],
   "source": [
    "start = time()\n",
    "print(f\"{name} start programing at {datetime.now()}. {Location} is the best city!\")\n",
    "print(f\"Програма буде спати {sleep_time} секунд\")\n",
    "sleep(sleep_time)\n",
    "end = time()\n",
    "print(f\"Програма виконувалась {end - start} сек (і ми забираємо {sleep_time} сек які програма спала): {end - start - sleep_time} сек.\")"
   ]
  }
 ],
 "metadata": {
  "kernelspec": {
   "display_name": "Python 3",
   "language": "python",
   "name": "python3"
  },
  "language_info": {
   "codemirror_mode": {
    "name": "ipython",
    "version": 3
   },
   "file_extension": ".py",
   "mimetype": "text/x-python",
   "name": "python",
   "nbconvert_exporter": "python",
   "pygments_lexer": "ipython3",
   "version": "3.11.5"
  }
 },
 "nbformat": 4,
 "nbformat_minor": 2
}
